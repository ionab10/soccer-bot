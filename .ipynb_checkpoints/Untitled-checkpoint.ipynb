{
 "cells": [
  {
   "cell_type": "code",
   "execution_count": 1,
   "metadata": {},
   "outputs": [],
   "source": [
    "import numpy as np\n",
    "import cv2\n",
    "from matplotlib import pyplot as plt\n",
    "import math\n",
    "import scipy\n",
    "import scipy.ndimage.filters as filters\n",
    "import scipy.ndimage as ndimage\n",
    "from glob import glob"
   ]
  },
  {
   "cell_type": "code",
   "execution_count": 2,
   "metadata": {},
   "outputs": [
    {
     "data": {
      "text/plain": [
       "['./samples/-1x-1.jpeg',\n",
       " './samples/images.jpeg',\n",
       " './samples/SP561.jpeg',\n",
       " './samples/1.jpeg',\n",
       " './samples/SGRD824SPT%20pic_MAIN.jpeg',\n",
       " './samples/12ft-x-6ft-football-goal_1.jpeg',\n",
       " './samples/heavy_duty_net_4_8.jpeg',\n",
       " './samples/images (1).jpeg',\n",
       " './samples/keeper_wheeled-1.jpeg',\n",
       " './samples/SC2480PA44XL.jpeg',\n",
       " './samples/g-73674-official-aluminum-portable-goal.jpeg',\n",
       " './samples/goalfix-socketed-mini-soccer_9v9-goals_04.jpeg',\n",
       " './samples/5ft_x_4ft_soccer_goal.jpeg',\n",
       " './samples/regulation-soccer-goals-sportsfield-specialties.jpeg',\n",
       " './samples/Football_iu_1996.jpeg']"
      ]
     },
     "execution_count": 2,
     "metadata": {},
     "output_type": "execute_result"
    }
   ],
   "source": [
    "for fn in glob('./samples/*'):\n",
    "    pri"
   ]
  },
  {
   "cell_type": "code",
   "execution_count": null,
   "metadata": {},
   "outputs": [],
   "source": [
    "img = cv2.imread(fn, cv2.IMREAD_COLOR)\n",
    "\n",
    "img"
   ]
  }
 ],
 "metadata": {
  "kernelspec": {
   "display_name": "Python 3",
   "language": "python",
   "name": "python3"
  },
  "language_info": {
   "codemirror_mode": {
    "name": "ipython",
    "version": 3
   },
   "file_extension": ".py",
   "mimetype": "text/x-python",
   "name": "python",
   "nbconvert_exporter": "python",
   "pygments_lexer": "ipython3",
   "version": "3.8.3"
  }
 },
 "nbformat": 4,
 "nbformat_minor": 4
}
